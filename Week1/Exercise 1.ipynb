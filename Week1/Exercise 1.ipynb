{
 "cells": [
  {
   "cell_type": "code",
   "execution_count": 1,
   "metadata": {},
   "outputs": [
    {
     "name": "stdout",
     "output_type": "stream",
     "text": [
      "The list contains following names with starting with H ['Hans', 'Holger']\n"
     ]
    }
   ],
   "source": [
    "#1.A)\n",
    "names_list = ['Ken', 'Jonas', 'Irene', 'Peter', 'Josef', 'Hans', 'Grethe', 'Holger']\n",
    "startLetter = 'H'\n",
    "result = [index for index in names_list if index[0].lower() == startLetter.lower()]\n",
    "print(\"The list contains following names with starting with H \" + str(result))\n",
    "\n"
   ]
  },
  {
   "cell_type": "code",
   "execution_count": 3,
   "metadata": {},
   "outputs": [
    {
     "name": "stdout",
     "output_type": "stream",
     "text": [
      "[0, 1, 8, 27, 64, 125, 216, 343, 512, 729, 1000, 1331, 1728, 2197, 2744, 3375, 4096, 4913, 5832, 6859, 8000, 9261, 10648, 12167, 13824, 15625, 17576, 19683, 21952, 24389, 27000, 29791, 32768, 35937, 39304, 42875, 46656, 50653, 54872, 59319, 64000, 68921, 74088, 79507, 85184, 91125, 97336, 103823, 110592, 117649, 125000, 132651, 140608, 148877, 157464, 166375, 175616, 185193, 195112, 205379, 216000, 226981, 238328, 250047, 262144, 274625, 287496, 300763, 314432, 328509, 343000, 357911, 373248, 389017, 405224, 421875, 438976, 456533, 474552, 493039, 512000, 531441, 551368, 571787, 592704, 614125, 636056, 658503, 681472, 704969, 729000, 753571, 778688, 804357, 830584, 857375, 884736, 912673, 941192, 970299]\n"
     ]
    }
   ],
   "source": [
    "#1.B)\n",
    "numbers = [x**3 for x in range(100)]\n",
    "print(numbers)"
   ]
  },
  {
   "cell_type": "code",
   "execution_count": 51,
   "metadata": {},
   "outputs": [
    {
     "data": {
      "text/plain": [
       "[(5, 'Jonas'), (5, 'Grete'), (6, 'Sigurt'), (5, 'Peter'), (4, 'Arne')]"
      ]
     },
     "execution_count": 51,
     "metadata": {},
     "output_type": "execute_result"
    }
   ],
   "source": [
    "#1.C)\n",
    "names = [\"Jonas\", \"Grete\", \"Sigurt\", \"Peter\", \"Arne\"]\n",
    "result = [len(name) for name in names]\n",
    "\n",
    "zipped = zip(result, names)\n",
    "list(zipped)\n",
    "\n"
   ]
  },
  {
   "cell_type": "code",
   "execution_count": 98,
   "metadata": {},
   "outputs": [
    {
     "name": "stdout",
     "output_type": "stream",
     "text": [
      "156231787\n"
     ]
    }
   ],
   "source": [
    "# 1.D)\n",
    "\n",
    "string ='a1f56ds2a31dsf78asd7f'\n",
    "count = 0\n",
    "newstring1 =\"\"  \n",
    "    \n",
    "for a in string: \n",
    "    if (a.isnumeric()) == False: \n",
    "        count+= 1\n",
    "    else: \n",
    "        newstring1+= a  \n",
    "print(newstring1) \n",
    " \n"
   ]
  },
  {
   "cell_type": "code",
   "execution_count": 101,
   "metadata": {},
   "outputs": [
    {
     "data": {
      "text/plain": [
       "[(1, 1),\n",
       " (1, 2),\n",
       " (1, 3),\n",
       " (1, 4),\n",
       " (1, 5),\n",
       " (1, 6),\n",
       " (2, 1),\n",
       " (2, 2),\n",
       " (2, 3),\n",
       " (2, 4),\n",
       " (2, 5),\n",
       " (2, 6),\n",
       " (3, 1),\n",
       " (3, 2),\n",
       " (3, 3),\n",
       " (3, 4),\n",
       " (3, 5),\n",
       " (3, 6),\n",
       " (4, 1),\n",
       " (4, 2),\n",
       " (4, 3),\n",
       " (4, 4),\n",
       " (4, 5),\n",
       " (4, 6),\n",
       " (5, 1),\n",
       " (5, 2),\n",
       " (5, 3),\n",
       " (5, 4),\n",
       " (5, 5),\n",
       " (5, 6),\n",
       " (6, 1),\n",
       " (6, 2),\n",
       " (6, 3),\n",
       " (6, 4),\n",
       " (6, 5),\n",
       " (6, 6)]"
      ]
     },
     "execution_count": 101,
     "metadata": {},
     "output_type": "execute_result"
    }
   ],
   "source": [
    "# 1.E)\n",
    "roll_combinations = [(d1, d2) for d1 in range(1, 7) for d2 in range(1, 7)]\n",
    "list(roll_combinations)"
   ]
  },
  {
   "cell_type": "code",
   "execution_count": 52,
   "metadata": {},
   "outputs": [
    {
     "name": "stdout",
     "output_type": "stream",
     "text": [
      "{'Jonas': 5, 'Grete': 5, 'Sigurt': 6, 'Peter': 5, 'Arne': 4}\n"
     ]
    }
   ],
   "source": [
    "# 2.A)\n",
    "k = [\"Jonas\", \"Grete\", \"Sigurt\", \"Peter\", \"Arne\"]\n",
    "v = [len(k) for k in names]\n",
    "\n",
    "dictionary = dict(zip(k, v))\n",
    "print(dictionary)"
   ]
  },
  {
   "cell_type": "code",
   "execution_count": 2,
   "metadata": {},
   "outputs": [
    {
     "name": "stdout",
     "output_type": "stream",
     "text": [
      "{2: 1.4142135623730951, 7: 2.6457513110645907, 6: 2.449489742783178, 9: 3.0, 10: 3.1622776601683795, 5: 2.23606797749979}\n"
     ]
    }
   ],
   "source": [
    "# 2. B)\n",
    "\n",
    "import math\n",
    "k = [2,7,6,9,10,5]\n",
    "v = [math.sqrt(n) for n in k]\n",
    "dictionary1 = dict(zip(k,v))\n",
    "print(dictionary1)\n"
   ]
  },
  {
   "cell_type": "code",
   "execution_count": 50,
   "metadata": {},
   "outputs": [
    {
     "name": "stdout",
     "output_type": "stream",
     "text": [
      "0.027777777777777776\n",
      "[(1, 1), (1, 2), (1, 3), (1, 4), (1, 5), (1, 6), (2, 1), (2, 2), (2, 3), (2, 4), (2, 5), (2, 6), (3, 1), (3, 2), (3, 3), (3, 4), (3, 5), (3, 6), (4, 1), (4, 2), (4, 3), (4, 4), (4, 5), (4, 6), (5, 1), (5, 2), (5, 3), (5, 4), (5, 5), (5, 6), (6, 1), (6, 2), (6, 3), (6, 4), (6, 5), (6, 6)]\n"
     ]
    }
   ],
   "source": [
    "# 3\n",
    "roll_combinations = [(d1, d2) for d1 in range(1, 7) for d2 in range(1, 7)]\n",
    "list(roll_combinations)\n",
    "likelihood = 1/len(roll_combinations)\n",
    "print(likelihood)\n",
    "print(roll_combinations)"
   ]
  },
  {
   "cell_type": "markdown",
   "metadata": {},
   "source": []
  }
 ],
 "metadata": {
  "kernelspec": {
   "display_name": "Python 3",
   "language": "python",
   "name": "python3"
  },
  "language_info": {
   "codemirror_mode": {
    "name": "ipython",
    "version": 3
   },
   "file_extension": ".py",
   "mimetype": "text/x-python",
   "name": "python",
   "nbconvert_exporter": "python",
   "pygments_lexer": "ipython3",
   "version": "3.7.4"
  }
 },
 "nbformat": 4,
 "nbformat_minor": 2
}
