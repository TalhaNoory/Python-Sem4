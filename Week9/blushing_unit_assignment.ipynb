{
 "nbformat": 4,
 "nbformat_minor": 2,
 "metadata": {
  "language_info": {
   "name": "python",
   "codemirror_mode": {
    "name": "ipython",
    "version": 3
   },
   "version": "3.7.4-final"
  },
  "orig_nbformat": 2,
  "file_extension": ".py",
  "mimetype": "text/x-python",
  "name": "python",
  "npconvert_exporter": "python",
  "pygments_lexer": "ipython3",
  "version": 3,
  "kernelspec": {
   "name": "python3",
   "display_name": "Python 3"
  }
 },
 "cells": [
  {
   "cell_type": "code",
   "execution_count": 16,
   "metadata": {},
   "outputs": [],
   "source": [
    "from selenium import webdriver\n",
    "import bs4\n",
    "from time import sleep\n",
    "\n",
    "browser = webdriver.Firefox()\n",
    "browser.get('https://www.worldometers.info/')\n",
    "sleep(3)\n",
    "\n",
    "soup = bs4.BeautifulSoup(browser.page_source, 'html.parser')\n",
    "\n",
    "\n",
    "\n",
    "\n",
    ""
   ]
  },
  {
   "cell_type": "code",
   "execution_count": 19,
   "metadata": {},
   "outputs": [
    {
     "output_type": "stream",
     "name": "stdout",
     "text": "753162951\n"
    }
   ],
   "source": [
    "\n",
    "\n",
    "# Obese people\n",
    "elems = soup.find('div',{'id': 'c31'})\n",
    "\n",
    "count_obese = ''\n",
    "for elm in elems.findChildren('span', {'class': 'rts-counter'})[0].findChildren():\n",
    "    \n",
    "    if (elm.text != ','):\n",
    "        count_obese += elm.text\n",
    "print(count_obese)\n",
    "\n",
    "\n",
    ""
   ]
  },
  {
   "cell_type": "code",
   "execution_count": 20,
   "metadata": {},
   "outputs": [
    {
     "output_type": "stream",
     "name": "stdout",
     "text": "1690964902\n"
    }
   ],
   "source": [
    "# Overweight people\n",
    "elems = soup.find('div',{'id': 'c30'})\n",
    "\n",
    "count_overweight = ''\n",
    "for elm in elems.findChildren('span', {'class': 'rts-counter'})[0].findChildren():\n",
    "    if(elm.text != ','):\n",
    "        count_overweight += elm.text\n",
    "print(count_overweight)\n",
    "\n",
    ""
   ]
  },
  {
   "cell_type": "code",
   "execution_count": 21,
   "metadata": {},
   "outputs": [
    {
     "output_type": "stream",
     "name": "stdout",
     "text": "841840646\n"
    }
   ],
   "source": [
    "# Undernourished people\n",
    "elems = soup.find('div', {'id': 'c29'})\n",
    "\n",
    "count_undernourished = ''\n",
    "for elm in elems.findChildren('span', {'class': 'rts-counter'})[0].findChildren():\n",
    "    if(elm.text != ','):\n",
    "        count_undernourished += elm.text\n",
    "print(count_undernourished)\n",
    "\n",
    "\n",
    "\n",
    ""
   ]
  },
  {
   "cell_type": "code",
   "execution_count": null,
   "metadata": {},
   "outputs": [],
   "source": [
    "\n",
    "import datetime\n",
    "import pymysql\n",
    "\n",
    "cnx = pymysql.connect(user='dev', password='ax2',host='127.0.0.1',port=3307,db='test') \n",
    "\n",
    "query = 'INSERT INTO population_data (population, id, \n",
    "\n",
    "\n"
   ]
  }
 ]
}